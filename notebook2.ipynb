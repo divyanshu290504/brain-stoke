{
 "cells": [
  {
   "cell_type": "code",
   "execution_count": 1,
   "id": "49e2cab7",
   "metadata": {
    "_cell_guid": "b1076dfc-b9ad-4769-8c92-a6c4dae69d19",
    "_uuid": "8f2839f25d086af736a60e9eeb907d3b93b6e0e5",
    "execution": {
     "iopub.execute_input": "2022-08-15T13:11:58.133907Z",
     "iopub.status.busy": "2022-08-15T13:11:58.133174Z",
     "iopub.status.idle": "2022-08-15T13:11:58.156765Z",
     "shell.execute_reply": "2022-08-15T13:11:58.155477Z"
    },
    "papermill": {
     "duration": 0.034047,
     "end_time": "2022-08-15T13:11:58.159478",
     "exception": false,
     "start_time": "2022-08-15T13:11:58.125431",
     "status": "completed"
    },
    "tags": []
   },
   "outputs": [
    {
     "name": "stdout",
     "output_type": "stream",
     "text": [
      "/kaggle/input/full-filled-brain-stroke-dataset/full_data.csv\n",
      "/kaggle/input/full-filled-brain-stroke-dataset/full_filled_stroke_data (1).csv\n"
     ]
    }
   ],
   "source": [
    "# This Python 3 environment comes with many helpful analytics libraries installed\n",
    "# It is defined by the kaggle/python Docker image: https://github.com/kaggle/docker-python\n",
    "# For example, here's several helpful packages to load\n",
    "\n",
    "import numpy as np # linear algebra\n",
    "import pandas as pd # data processing, CSV file I/O (e.g. pd.read_csv)\n",
    "\n",
    "import os\n",
    "for dirname, _, filenames in os.walk('/kaggle/input'):\n",
    "    for filename in filenames:\n",
    "        print(os.path.join(dirname, filename))\n"
   ]
  },
  {
   "cell_type": "code",
   "execution_count": 2,
   "id": "21dae16b",
   "metadata": {
    "execution": {
     "iopub.execute_input": "2022-08-15T13:11:58.169783Z",
     "iopub.status.busy": "2022-08-15T13:11:58.169253Z",
     "iopub.status.idle": "2022-08-15T13:11:58.223047Z",
     "shell.execute_reply": "2022-08-15T13:11:58.221892Z"
    },
    "papermill": {
     "duration": 0.06202,
     "end_time": "2022-08-15T13:11:58.225771",
     "exception": false,
     "start_time": "2022-08-15T13:11:58.163751",
     "status": "completed"
    },
    "tags": []
   },
   "outputs": [],
   "source": [
    "df_train = pd.read_csv(\"/kaggle/input/full-filled-brain-stroke-dataset/full_data.csv\")\n",
    "df_test = pd.read_csv(\"/kaggle/input/full-filled-brain-stroke-dataset/full_filled_stroke_data (1).csv\")"
   ]
  },
  {
   "cell_type": "code",
   "execution_count": 3,
   "id": "b4282c49",
   "metadata": {
    "execution": {
     "iopub.execute_input": "2022-08-15T13:11:58.235919Z",
     "iopub.status.busy": "2022-08-15T13:11:58.235426Z",
     "iopub.status.idle": "2022-08-15T13:11:58.265399Z",
     "shell.execute_reply": "2022-08-15T13:11:58.263965Z"
    },
    "papermill": {
     "duration": 0.038046,
     "end_time": "2022-08-15T13:11:58.267785",
     "exception": false,
     "start_time": "2022-08-15T13:11:58.229739",
     "status": "completed"
    },
    "tags": []
   },
   "outputs": [
    {
     "data": {
      "text/html": [
       "<div>\n",
       "<style scoped>\n",
       "    .dataframe tbody tr th:only-of-type {\n",
       "        vertical-align: middle;\n",
       "    }\n",
       "\n",
       "    .dataframe tbody tr th {\n",
       "        vertical-align: top;\n",
       "    }\n",
       "\n",
       "    .dataframe thead th {\n",
       "        text-align: right;\n",
       "    }\n",
       "</style>\n",
       "<table border=\"1\" class=\"dataframe\">\n",
       "  <thead>\n",
       "    <tr style=\"text-align: right;\">\n",
       "      <th></th>\n",
       "      <th>gender</th>\n",
       "      <th>age</th>\n",
       "      <th>hypertension</th>\n",
       "      <th>heart_disease</th>\n",
       "      <th>ever_married</th>\n",
       "      <th>work_type</th>\n",
       "      <th>Residence_type</th>\n",
       "      <th>avg_glucose_level</th>\n",
       "      <th>bmi</th>\n",
       "      <th>smoking_status</th>\n",
       "      <th>stroke</th>\n",
       "    </tr>\n",
       "  </thead>\n",
       "  <tbody>\n",
       "    <tr>\n",
       "      <th>0</th>\n",
       "      <td>Male</td>\n",
       "      <td>67.0</td>\n",
       "      <td>0</td>\n",
       "      <td>1</td>\n",
       "      <td>Yes</td>\n",
       "      <td>Private</td>\n",
       "      <td>Urban</td>\n",
       "      <td>228.69</td>\n",
       "      <td>36.6</td>\n",
       "      <td>formerly smoked</td>\n",
       "      <td>1</td>\n",
       "    </tr>\n",
       "    <tr>\n",
       "      <th>1</th>\n",
       "      <td>Male</td>\n",
       "      <td>80.0</td>\n",
       "      <td>0</td>\n",
       "      <td>1</td>\n",
       "      <td>Yes</td>\n",
       "      <td>Private</td>\n",
       "      <td>Rural</td>\n",
       "      <td>105.92</td>\n",
       "      <td>32.5</td>\n",
       "      <td>never smoked</td>\n",
       "      <td>1</td>\n",
       "    </tr>\n",
       "    <tr>\n",
       "      <th>2</th>\n",
       "      <td>Female</td>\n",
       "      <td>49.0</td>\n",
       "      <td>0</td>\n",
       "      <td>0</td>\n",
       "      <td>Yes</td>\n",
       "      <td>Private</td>\n",
       "      <td>Urban</td>\n",
       "      <td>171.23</td>\n",
       "      <td>34.4</td>\n",
       "      <td>smokes</td>\n",
       "      <td>1</td>\n",
       "    </tr>\n",
       "    <tr>\n",
       "      <th>3</th>\n",
       "      <td>Female</td>\n",
       "      <td>79.0</td>\n",
       "      <td>1</td>\n",
       "      <td>0</td>\n",
       "      <td>Yes</td>\n",
       "      <td>Self-employed</td>\n",
       "      <td>Rural</td>\n",
       "      <td>174.12</td>\n",
       "      <td>24.0</td>\n",
       "      <td>never smoked</td>\n",
       "      <td>1</td>\n",
       "    </tr>\n",
       "    <tr>\n",
       "      <th>4</th>\n",
       "      <td>Male</td>\n",
       "      <td>81.0</td>\n",
       "      <td>0</td>\n",
       "      <td>0</td>\n",
       "      <td>Yes</td>\n",
       "      <td>Private</td>\n",
       "      <td>Urban</td>\n",
       "      <td>186.21</td>\n",
       "      <td>29.0</td>\n",
       "      <td>formerly smoked</td>\n",
       "      <td>1</td>\n",
       "    </tr>\n",
       "  </tbody>\n",
       "</table>\n",
       "</div>"
      ],
      "text/plain": [
       "   gender   age  hypertension  heart_disease ever_married      work_type  \\\n",
       "0    Male  67.0             0              1          Yes        Private   \n",
       "1    Male  80.0             0              1          Yes        Private   \n",
       "2  Female  49.0             0              0          Yes        Private   \n",
       "3  Female  79.0             1              0          Yes  Self-employed   \n",
       "4    Male  81.0             0              0          Yes        Private   \n",
       "\n",
       "  Residence_type  avg_glucose_level   bmi   smoking_status  stroke  \n",
       "0          Urban             228.69  36.6  formerly smoked       1  \n",
       "1          Rural             105.92  32.5     never smoked       1  \n",
       "2          Urban             171.23  34.4           smokes       1  \n",
       "3          Rural             174.12  24.0     never smoked       1  \n",
       "4          Urban             186.21  29.0  formerly smoked       1  "
      ]
     },
     "execution_count": 3,
     "metadata": {},
     "output_type": "execute_result"
    }
   ],
   "source": [
    "df_train.head()"
   ]
  },
  {
   "cell_type": "code",
   "execution_count": 4,
   "id": "e0f9e671",
   "metadata": {
    "execution": {
     "iopub.execute_input": "2022-08-15T13:11:58.278044Z",
     "iopub.status.busy": "2022-08-15T13:11:58.277498Z",
     "iopub.status.idle": "2022-08-15T13:11:58.291460Z",
     "shell.execute_reply": "2022-08-15T13:11:58.290178Z"
    },
    "papermill": {
     "duration": 0.022085,
     "end_time": "2022-08-15T13:11:58.293993",
     "exception": false,
     "start_time": "2022-08-15T13:11:58.271908",
     "status": "completed"
    },
    "tags": []
   },
   "outputs": [],
   "source": [
    "y_train = df_train.pop(\"stroke\")\n",
    "y_test = df_test.pop(\"stroke\")"
   ]
  },
  {
   "cell_type": "code",
   "execution_count": 5,
   "id": "e374fffa",
   "metadata": {
    "execution": {
     "iopub.execute_input": "2022-08-15T13:11:58.304789Z",
     "iopub.status.busy": "2022-08-15T13:11:58.303909Z",
     "iopub.status.idle": "2022-08-15T13:11:58.361426Z",
     "shell.execute_reply": "2022-08-15T13:11:58.360338Z"
    },
    "papermill": {
     "duration": 0.066596,
     "end_time": "2022-08-15T13:11:58.364736",
     "exception": false,
     "start_time": "2022-08-15T13:11:58.298140",
     "status": "completed"
    },
    "tags": []
   },
   "outputs": [
    {
     "data": {
      "text/html": [
       "<div>\n",
       "<style scoped>\n",
       "    .dataframe tbody tr th:only-of-type {\n",
       "        vertical-align: middle;\n",
       "    }\n",
       "\n",
       "    .dataframe tbody tr th {\n",
       "        vertical-align: top;\n",
       "    }\n",
       "\n",
       "    .dataframe thead th {\n",
       "        text-align: right;\n",
       "    }\n",
       "</style>\n",
       "<table border=\"1\" class=\"dataframe\">\n",
       "  <thead>\n",
       "    <tr style=\"text-align: right;\">\n",
       "      <th></th>\n",
       "      <th>gender</th>\n",
       "      <th>age</th>\n",
       "      <th>hypertension</th>\n",
       "      <th>heart_disease</th>\n",
       "      <th>ever_married</th>\n",
       "      <th>work_type</th>\n",
       "      <th>Residence_type</th>\n",
       "      <th>avg_glucose_level</th>\n",
       "      <th>bmi</th>\n",
       "      <th>smoking_status</th>\n",
       "    </tr>\n",
       "  </thead>\n",
       "  <tbody>\n",
       "    <tr>\n",
       "      <th>0</th>\n",
       "      <td>1</td>\n",
       "      <td>0.67</td>\n",
       "      <td>0</td>\n",
       "      <td>1</td>\n",
       "      <td>1</td>\n",
       "      <td>0</td>\n",
       "      <td>0</td>\n",
       "      <td>0.762300</td>\n",
       "      <td>0.732</td>\n",
       "      <td>0</td>\n",
       "    </tr>\n",
       "    <tr>\n",
       "      <th>1</th>\n",
       "      <td>1</td>\n",
       "      <td>0.80</td>\n",
       "      <td>0</td>\n",
       "      <td>1</td>\n",
       "      <td>1</td>\n",
       "      <td>0</td>\n",
       "      <td>1</td>\n",
       "      <td>0.353067</td>\n",
       "      <td>0.650</td>\n",
       "      <td>1</td>\n",
       "    </tr>\n",
       "    <tr>\n",
       "      <th>2</th>\n",
       "      <td>0</td>\n",
       "      <td>0.49</td>\n",
       "      <td>0</td>\n",
       "      <td>0</td>\n",
       "      <td>1</td>\n",
       "      <td>0</td>\n",
       "      <td>0</td>\n",
       "      <td>0.570767</td>\n",
       "      <td>0.688</td>\n",
       "      <td>2</td>\n",
       "    </tr>\n",
       "    <tr>\n",
       "      <th>3</th>\n",
       "      <td>0</td>\n",
       "      <td>0.79</td>\n",
       "      <td>1</td>\n",
       "      <td>0</td>\n",
       "      <td>1</td>\n",
       "      <td>1</td>\n",
       "      <td>1</td>\n",
       "      <td>0.580400</td>\n",
       "      <td>0.480</td>\n",
       "      <td>1</td>\n",
       "    </tr>\n",
       "    <tr>\n",
       "      <th>4</th>\n",
       "      <td>1</td>\n",
       "      <td>0.81</td>\n",
       "      <td>0</td>\n",
       "      <td>0</td>\n",
       "      <td>1</td>\n",
       "      <td>0</td>\n",
       "      <td>0</td>\n",
       "      <td>0.620700</td>\n",
       "      <td>0.580</td>\n",
       "      <td>0</td>\n",
       "    </tr>\n",
       "  </tbody>\n",
       "</table>\n",
       "</div>"
      ],
      "text/plain": [
       "  gender   age  hypertension  heart_disease ever_married work_type  \\\n",
       "0      1  0.67             0              1            1         0   \n",
       "1      1  0.80             0              1            1         0   \n",
       "2      0  0.49             0              0            1         0   \n",
       "3      0  0.79             1              0            1         1   \n",
       "4      1  0.81             0              0            1         0   \n",
       "\n",
       "  Residence_type  avg_glucose_level    bmi smoking_status  \n",
       "0              0           0.762300  0.732              0  \n",
       "1              1           0.353067  0.650              1  \n",
       "2              0           0.570767  0.688              2  \n",
       "3              1           0.580400  0.480              1  \n",
       "4              0           0.620700  0.580              0  "
      ]
     },
     "execution_count": 5,
     "metadata": {},
     "output_type": "execute_result"
    }
   ],
   "source": [
    "df_train.loc[df_train['gender'] == 'Male','gender'] = 1\n",
    "df_train.loc[df_train['gender'] == 'Female','gender'] = 0\n",
    "df_train.loc[df_train['ever_married'] == 'Yes','ever_married'] = 1\n",
    "df_train.loc[df_train['ever_married'] == 'No','ever_married'] = 0\n",
    "df_train.loc[df_train['work_type'] == 'Private','work_type'] = 0\n",
    "df_train.loc[df_train['work_type'] == 'Self-employed','work_type'] = 1\n",
    "df_train.loc[df_train['work_type'] == 'Govt_job','work_type'] = 2\n",
    "df_train.loc[df_train['work_type'] == 'children','work_type'] = 3\n",
    "df_train.loc[df_train['Residence_type'] == 'Urban','Residence_type'] = 0\n",
    "df_train.loc[df_train['Residence_type'] == 'Rural','Residence_type'] = 1\n",
    "df_train.loc[df_train['smoking_status'] == 'formerly smoked','smoking_status'] = 0\n",
    "df_train.loc[df_train['smoking_status'] == 'never smoked','smoking_status'] = 1\n",
    "df_train.loc[df_train['smoking_status'] == 'smokes','smoking_status'] = 2\n",
    "df_train.loc[df_train['smoking_status'] == 'Unknown','smoking_status'] = 3\n",
    "df_train['age'] = df_train['age'] / 100\n",
    "df_train['avg_glucose_level'] = df_train['avg_glucose_level'] / 300\n",
    "df_train['bmi'] = df_train['bmi'] / 50\n",
    "\n",
    "df_test.loc[df_test['gender'] == 'Male','gender'] = 1\n",
    "df_test.loc[df_test['gender'] == 'Female','gender'] = 0\n",
    "df_test.loc[df_test['ever_married'] == 'Yes','ever_married'] = 1\n",
    "df_test.loc[df_test['ever_married'] == 'No','ever_married'] = 0\n",
    "df_test.loc[df_test['work_type'] == 'Private','work_type'] = 0\n",
    "df_test.loc[df_test['work_type'] == 'Self-employed','work_type'] = 1\n",
    "df_test.loc[df_test['work_type'] == 'Govt_job','work_type'] = 2\n",
    "df_test.loc[df_test['work_type'] == 'children','work_type'] = 3\n",
    "df_test.loc[df_test['Residence_type'] == 'Urban','Residence_type'] = 0\n",
    "df_test.loc[df_test['Residence_type'] == 'Rural','Residence_type'] = 1\n",
    "df_test.loc[df_test['smoking_status'] == 'formerly smoked','smoking_status'] = 0\n",
    "df_test.loc[df_test['smoking_status'] == 'never smoked','smoking_status'] = 1\n",
    "df_test.loc[df_test['smoking_status'] == 'smokes','smoking_status'] = 2\n",
    "df_test.loc[df_test['smoking_status'] == 'Unknown','smoking_status'] = 3\n",
    "df_test['age'] = df_test['age'] / 100\n",
    "df_test['avg_glucose_level'] = df_test['avg_glucose_level'] / 300\n",
    "df_test['bmi'] = df_test['bmi'] / 50\n",
    "\n",
    "df_train.head()"
   ]
  },
  {
   "cell_type": "code",
   "execution_count": 6,
   "id": "ffd2922b",
   "metadata": {
    "execution": {
     "iopub.execute_input": "2022-08-15T13:11:58.376821Z",
     "iopub.status.busy": "2022-08-15T13:11:58.375452Z",
     "iopub.status.idle": "2022-08-15T13:11:58.398751Z",
     "shell.execute_reply": "2022-08-15T13:11:58.397476Z"
    },
    "papermill": {
     "duration": 0.032764,
     "end_time": "2022-08-15T13:11:58.402077",
     "exception": false,
     "start_time": "2022-08-15T13:11:58.369313",
     "status": "completed"
    },
    "tags": []
   },
   "outputs": [],
   "source": [
    "train_data = np.array(df_train,dtype = np.float64).T\n",
    "test_data = np.array(df_test,dtype = np.float64).T\n",
    "y_train = y_train.to_numpy()\n",
    "y_test = y_test.to_numpy()\n",
    "X = train_data"
   ]
  },
  {
   "cell_type": "code",
   "execution_count": 7,
   "id": "89b69568",
   "metadata": {
    "execution": {
     "iopub.execute_input": "2022-08-15T13:11:58.414223Z",
     "iopub.status.busy": "2022-08-15T13:11:58.412760Z",
     "iopub.status.idle": "2022-08-15T13:11:58.420108Z",
     "shell.execute_reply": "2022-08-15T13:11:58.418825Z"
    },
    "papermill": {
     "duration": 0.016454,
     "end_time": "2022-08-15T13:11:58.423104",
     "exception": false,
     "start_time": "2022-08-15T13:11:58.406650",
     "status": "completed"
    },
    "tags": []
   },
   "outputs": [],
   "source": [
    "m = train_data.shape[1]\n",
    "n_x = train_data.shape[0]"
   ]
  },
  {
   "cell_type": "code",
   "execution_count": 8,
   "id": "006b4db6",
   "metadata": {
    "execution": {
     "iopub.execute_input": "2022-08-15T13:11:58.434591Z",
     "iopub.status.busy": "2022-08-15T13:11:58.434103Z",
     "iopub.status.idle": "2022-08-15T13:11:58.442724Z",
     "shell.execute_reply": "2022-08-15T13:11:58.440961Z"
    },
    "papermill": {
     "duration": 0.017891,
     "end_time": "2022-08-15T13:11:58.445662",
     "exception": false,
     "start_time": "2022-08-15T13:11:58.427771",
     "status": "completed"
    },
    "tags": []
   },
   "outputs": [
    {
     "name": "stdout",
     "output_type": "stream",
     "text": [
      "[[-0.00455602  0.01113995 -0.02022263  0.00536263  0.01147391  0.00617676\n",
      "  -0.01226174  0.00653462  0.00449661  0.00458812]]\n",
      "[[0.]]\n"
     ]
    }
   ],
   "source": [
    "w = np.random.randn(1,n_x)*0.01\n",
    "b = np.zeros((1,1))\n",
    "print(w)\n",
    "print(b)"
   ]
  },
  {
   "cell_type": "code",
   "execution_count": 9,
   "id": "190cafd3",
   "metadata": {
    "execution": {
     "iopub.execute_input": "2022-08-15T13:11:58.457061Z",
     "iopub.status.busy": "2022-08-15T13:11:58.456664Z",
     "iopub.status.idle": "2022-08-15T13:11:58.462347Z",
     "shell.execute_reply": "2022-08-15T13:11:58.460963Z"
    },
    "papermill": {
     "duration": 0.014744,
     "end_time": "2022-08-15T13:11:58.465017",
     "exception": false,
     "start_time": "2022-08-15T13:11:58.450273",
     "status": "completed"
    },
    "tags": []
   },
   "outputs": [],
   "source": [
    "def sigmoid(z):\n",
    "    return 1/(1+np.exp(-z))"
   ]
  },
  {
   "cell_type": "code",
   "execution_count": 10,
   "id": "2a5e3588",
   "metadata": {
    "execution": {
     "iopub.execute_input": "2022-08-15T13:11:58.476302Z",
     "iopub.status.busy": "2022-08-15T13:11:58.475913Z",
     "iopub.status.idle": "2022-08-15T13:11:58.483225Z",
     "shell.execute_reply": "2022-08-15T13:11:58.481878Z"
    },
    "papermill": {
     "duration": 0.016026,
     "end_time": "2022-08-15T13:11:58.485798",
     "exception": false,
     "start_time": "2022-08-15T13:11:58.469772",
     "status": "completed"
    },
    "tags": []
   },
   "outputs": [],
   "source": [
    "def cost_function(X,w,b,y_train):\n",
    "    A = sigmoid(np.dot(w,X)+b)\n",
    "    cost = (1/m)*np.sum(y_train*np.log(A) + (1-y_train)* np.log(1-A))\n",
    "    dz = A - y_train\n",
    "    db = np.sum(dz)/m\n",
    "    dw = np.dot(X,dz.T)/m\n",
    "    return cost,dw,db"
   ]
  },
  {
   "cell_type": "code",
   "execution_count": 11,
   "id": "126b7438",
   "metadata": {
    "execution": {
     "iopub.execute_input": "2022-08-15T13:11:58.497317Z",
     "iopub.status.busy": "2022-08-15T13:11:58.496858Z",
     "iopub.status.idle": "2022-08-15T13:11:58.514899Z",
     "shell.execute_reply": "2022-08-15T13:11:58.512900Z"
    },
    "papermill": {
     "duration": 0.030728,
     "end_time": "2022-08-15T13:11:58.521192",
     "exception": false,
     "start_time": "2022-08-15T13:11:58.490464",
     "status": "completed"
    },
    "tags": []
   },
   "outputs": [
    {
     "name": "stdout",
     "output_type": "stream",
     "text": [
      "(-0.7022198179095607, array([[0.18836909],\n",
      "       [0.18555692],\n",
      "       [0.03493304],\n",
      "       [0.01851202],\n",
      "       [0.28891454],\n",
      "       [0.39077037],\n",
      "       [0.22482019],\n",
      "       [0.15643001],\n",
      "       [0.2577527 ],\n",
      "       [0.73824275]]), 0.4552240255465416)\n"
     ]
    }
   ],
   "source": [
    "print(cost_function(X,w,b,y_train))"
   ]
  },
  {
   "cell_type": "code",
   "execution_count": null,
   "id": "85663c50",
   "metadata": {
    "papermill": {
     "duration": 0.010572,
     "end_time": "2022-08-15T13:11:58.542950",
     "exception": false,
     "start_time": "2022-08-15T13:11:58.532378",
     "status": "completed"
    },
    "tags": []
   },
   "outputs": [],
   "source": []
  }
 ],
 "metadata": {
  "kernelspec": {
   "display_name": "Python 3",
   "language": "python",
   "name": "python3"
  },
  "language_info": {
   "codemirror_mode": {
    "name": "ipython",
    "version": 3
   },
   "file_extension": ".py",
   "mimetype": "text/x-python",
   "name": "python",
   "nbconvert_exporter": "python",
   "pygments_lexer": "ipython3",
   "version": "3.7.12"
  },
  "papermill": {
   "default_parameters": {},
   "duration": 11.263393,
   "end_time": "2022-08-15T13:11:59.484668",
   "environment_variables": {},
   "exception": null,
   "input_path": "__notebook__.ipynb",
   "output_path": "__notebook__.ipynb",
   "parameters": {},
   "start_time": "2022-08-15T13:11:48.221275",
   "version": "2.3.4"
  }
 },
 "nbformat": 4,
 "nbformat_minor": 5
}
